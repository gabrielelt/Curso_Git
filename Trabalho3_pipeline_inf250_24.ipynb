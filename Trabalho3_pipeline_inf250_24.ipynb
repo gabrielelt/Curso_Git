{
  "nbformat": 4,
  "nbformat_minor": 0,
  "metadata": {
    "colab": {
      "provenance": [],
      "include_colab_link": true
    },
    "kernelspec": {
      "name": "python3",
      "display_name": "Python 3"
    },
    "language_info": {
      "name": "python"
    },
    "widgets": {
      "application/vnd.jupyter.widget-state+json": {
        "989a36d61b804a62b0522c1cda464842": {
          "model_module": "@jupyter-widgets/controls",
          "model_name": "VBoxModel",
          "model_module_version": "1.5.0",
          "state": {
            "_dom_classes": [],
            "_model_module": "@jupyter-widgets/controls",
            "_model_module_version": "1.5.0",
            "_model_name": "VBoxModel",
            "_view_count": null,
            "_view_module": "@jupyter-widgets/controls",
            "_view_module_version": "1.5.0",
            "_view_name": "VBoxView",
            "box_style": "",
            "children": [
              "IPY_MODEL_8f690656b6414ea3bf5f5a9fbe05b6f9",
              "IPY_MODEL_64378f6e53d1445dbc16e2e2ce8dae94"
            ],
            "layout": "IPY_MODEL_f48b801d704e4226b7fea9dce021205f"
          }
        },
        "8f690656b6414ea3bf5f5a9fbe05b6f9": {
          "model_module": "@jupyter-widgets/controls",
          "model_name": "LabelModel",
          "model_module_version": "1.5.0",
          "state": {
            "_dom_classes": [],
            "_model_module": "@jupyter-widgets/controls",
            "_model_module_version": "1.5.0",
            "_model_name": "LabelModel",
            "_view_count": null,
            "_view_module": "@jupyter-widgets/controls",
            "_view_module_version": "1.5.0",
            "_view_name": "LabelView",
            "description": "",
            "description_tooltip": null,
            "layout": "IPY_MODEL_85d2af429b80404b883763056e3b3a71",
            "placeholder": "​",
            "style": "IPY_MODEL_935e6f5201744e58a3de8ed50b73a8c7",
            "value": "Ciclo: 0"
          }
        },
        "64378f6e53d1445dbc16e2e2ce8dae94": {
          "model_module": "@jupyter-widgets/controls",
          "model_name": "ButtonModel",
          "model_module_version": "1.5.0",
          "state": {
            "_dom_classes": [],
            "_model_module": "@jupyter-widgets/controls",
            "_model_module_version": "1.5.0",
            "_model_name": "ButtonModel",
            "_view_count": null,
            "_view_module": "@jupyter-widgets/controls",
            "_view_module_version": "1.5.0",
            "_view_name": "ButtonView",
            "button_style": "",
            "description": "Clock",
            "disabled": false,
            "icon": "",
            "layout": "IPY_MODEL_2ec467979bc9479098a971c18859fba9",
            "style": "IPY_MODEL_e985dbc71a6345a194504d40a2e7f71e",
            "tooltip": ""
          }
        },
        "f48b801d704e4226b7fea9dce021205f": {
          "model_module": "@jupyter-widgets/base",
          "model_name": "LayoutModel",
          "model_module_version": "1.2.0",
          "state": {
            "_model_module": "@jupyter-widgets/base",
            "_model_module_version": "1.2.0",
            "_model_name": "LayoutModel",
            "_view_count": null,
            "_view_module": "@jupyter-widgets/base",
            "_view_module_version": "1.2.0",
            "_view_name": "LayoutView",
            "align_content": null,
            "align_items": null,
            "align_self": null,
            "border": null,
            "bottom": null,
            "display": null,
            "flex": null,
            "flex_flow": null,
            "grid_area": null,
            "grid_auto_columns": null,
            "grid_auto_flow": null,
            "grid_auto_rows": null,
            "grid_column": null,
            "grid_gap": null,
            "grid_row": null,
            "grid_template_areas": null,
            "grid_template_columns": null,
            "grid_template_rows": null,
            "height": null,
            "justify_content": null,
            "justify_items": null,
            "left": null,
            "margin": null,
            "max_height": null,
            "max_width": null,
            "min_height": null,
            "min_width": null,
            "object_fit": null,
            "object_position": null,
            "order": null,
            "overflow": null,
            "overflow_x": null,
            "overflow_y": null,
            "padding": null,
            "right": null,
            "top": null,
            "visibility": null,
            "width": null
          }
        },
        "85d2af429b80404b883763056e3b3a71": {
          "model_module": "@jupyter-widgets/base",
          "model_name": "LayoutModel",
          "model_module_version": "1.2.0",
          "state": {
            "_model_module": "@jupyter-widgets/base",
            "_model_module_version": "1.2.0",
            "_model_name": "LayoutModel",
            "_view_count": null,
            "_view_module": "@jupyter-widgets/base",
            "_view_module_version": "1.2.0",
            "_view_name": "LayoutView",
            "align_content": null,
            "align_items": null,
            "align_self": null,
            "border": null,
            "bottom": null,
            "display": null,
            "flex": null,
            "flex_flow": null,
            "grid_area": null,
            "grid_auto_columns": null,
            "grid_auto_flow": null,
            "grid_auto_rows": null,
            "grid_column": null,
            "grid_gap": null,
            "grid_row": null,
            "grid_template_areas": null,
            "grid_template_columns": null,
            "grid_template_rows": null,
            "height": null,
            "justify_content": null,
            "justify_items": null,
            "left": null,
            "margin": null,
            "max_height": null,
            "max_width": null,
            "min_height": null,
            "min_width": null,
            "object_fit": null,
            "object_position": null,
            "order": null,
            "overflow": null,
            "overflow_x": null,
            "overflow_y": null,
            "padding": null,
            "right": null,
            "top": null,
            "visibility": null,
            "width": null
          }
        },
        "935e6f5201744e58a3de8ed50b73a8c7": {
          "model_module": "@jupyter-widgets/controls",
          "model_name": "DescriptionStyleModel",
          "model_module_version": "1.5.0",
          "state": {
            "_model_module": "@jupyter-widgets/controls",
            "_model_module_version": "1.5.0",
            "_model_name": "DescriptionStyleModel",
            "_view_count": null,
            "_view_module": "@jupyter-widgets/base",
            "_view_module_version": "1.2.0",
            "_view_name": "StyleView",
            "description_width": ""
          }
        },
        "2ec467979bc9479098a971c18859fba9": {
          "model_module": "@jupyter-widgets/base",
          "model_name": "LayoutModel",
          "model_module_version": "1.2.0",
          "state": {
            "_model_module": "@jupyter-widgets/base",
            "_model_module_version": "1.2.0",
            "_model_name": "LayoutModel",
            "_view_count": null,
            "_view_module": "@jupyter-widgets/base",
            "_view_module_version": "1.2.0",
            "_view_name": "LayoutView",
            "align_content": null,
            "align_items": null,
            "align_self": null,
            "border": null,
            "bottom": null,
            "display": null,
            "flex": null,
            "flex_flow": null,
            "grid_area": null,
            "grid_auto_columns": null,
            "grid_auto_flow": null,
            "grid_auto_rows": null,
            "grid_column": null,
            "grid_gap": null,
            "grid_row": null,
            "grid_template_areas": null,
            "grid_template_columns": null,
            "grid_template_rows": null,
            "height": null,
            "justify_content": null,
            "justify_items": null,
            "left": null,
            "margin": null,
            "max_height": null,
            "max_width": null,
            "min_height": null,
            "min_width": null,
            "object_fit": null,
            "object_position": null,
            "order": null,
            "overflow": null,
            "overflow_x": null,
            "overflow_y": null,
            "padding": null,
            "right": null,
            "top": null,
            "visibility": null,
            "width": null
          }
        },
        "e985dbc71a6345a194504d40a2e7f71e": {
          "model_module": "@jupyter-widgets/controls",
          "model_name": "ButtonStyleModel",
          "model_module_version": "1.5.0",
          "state": {
            "_model_module": "@jupyter-widgets/controls",
            "_model_module_version": "1.5.0",
            "_model_name": "ButtonStyleModel",
            "_view_count": null,
            "_view_module": "@jupyter-widgets/base",
            "_view_module_version": "1.2.0",
            "_view_name": "StyleView",
            "button_color": null,
            "font_weight": ""
          }
        }
      }
    }
  },
  "cells": [
    {
      "cell_type": "markdown",
      "metadata": {
        "id": "view-in-github",
        "colab_type": "text"
      },
      "source": [
        "<a href=\"https://colab.research.google.com/github/gabrielelt/Curso_Git/blob/main/Trabalho3_pipeline_inf250_24.ipynb\" target=\"_parent\"><img src=\"https://colab.research.google.com/assets/colab-badge.svg\" alt=\"Open In Colab\"/></a>"
      ]
    },
    {
      "cell_type": "markdown",
      "source": [
        "# Trabalho 3 RiscV Pipeline - Prazo Parte I 21/1 e Parte II 28/1\n",
        "\n",
        "## Parte I: Python sem forward, hazard e desvio 4 estágio\n",
        "\n",
        "## Parte II: Adaptar o Simulador Verilog [sem forward](https://colab.research.google.com/drive/1HNi4zRXolKYMk5xypbX0iq8ZJeE4Rn1C?usp=sharing) mas com a animacao do desenho SVG para as versões:\n",
        "   * **Já está feito** Como Exemplo, está disponível a adaptação do \"Com Forward e Harzard, desvio no 4 estágio\"[Sem Interface](https://colab.research.google.com/drive/1EziU5Hb609vjwyscSDsbGPhs4gkM3OdC?usp=sharing), primeiro completei o [desenho svg](https://github.com/arduinoufv/inf250/blob/master/2024/pipe_para_completar_forward_hazard.svg) e depois gerei um novo [colab com a versão com Forward e Hazard de Dados](https://colab.research.google.com/drive/1DrAfdXnsjWtteirTV6W7y1dJvUrfuR63?usp=sharing)\n",
        "   * [Com desvio no segundo estágio](https://colab.research.google.com/drive/1rFd3QLmpMDGUaREZyWzFinT89FATqkgQ?usp=sharing) , importante é completar o [desenho svg](https://github.com/arduinoufv/inf250/blob/master/2024/pipe_para_completar_branch_2st_forward.svg)"
      ],
      "metadata": {
        "id": "LHdTb3cVbVpK"
      }
    },
    {
      "cell_type": "markdown",
      "source": [
        "# Parte I\n",
        "\n",
        "* Funcionalidades\n",
        "    * Ter uma janela para digitar o código\n",
        "    * Ter no mínimo 5 códigos de exemplo (desenho da tabela de execução) que mostrem as situações de Stall e a capacidade do simulador de tratar corretamente\n",
        "    * Código Python deve ser de fácil entendimento e possibilidades de extensão\n",
        "    * **Fetch** deve ter a capacidade de tratar desvio em conjunto com o **Memória**, já que o desvio executa no quarto estágio\n",
        "    * **Decode** deve ler os registradores e registrar as futuras dependências, os **stalls** devem acontecer no **decode**. O decode também fazer o **parser** da instrução.\n",
        "    * **Execute** irá executar e deve ser facil de ser estendido para incorporar outras instruções.\n",
        "    * **Memória** deve gravar usando de 4 em 4 bytes, desconsiderando os 2 bits menos significativos. O desvio ocorre no 4 estágio, quando desvia tem que dar flash na pipeline.\n",
        "    * **\n"
      ],
      "metadata": {
        "id": "cPIosj1IfdGj"
      }
    },
    {
      "cell_type": "code",
      "source": [
        "#@title Exemplo de Simulador (incompleto)\n",
        "import ipywidgets as widgets\n",
        "from IPython.display import display, clear_output\n",
        "\n",
        "# Configuração do pipeline\n",
        "stages = [\"IF\", \"ID\", \"EX\", \"MEM\", \"WB\"]\n",
        "program = [\n",
        "    \"add x1, x2, x3\",  # x1 = x2 + x3\n",
        "    \"sub x4, x1, x5\",  # x4 = x1 - x5\n",
        "    \"mul x6, x4, x7\",  # x6 = x4 * x7\n",
        "    \"add x8, x6, x1\"   # x8 = x6 + x1\n",
        "]\n",
        "registers = {f\"x{i}\": 0 for i in range(32)}  # Registradores do RISC-V\n",
        "registers.update({\"x2\": 10, \"x3\": 5, \"x5\": 3, \"x7\": 2})  # Valores iniciais\n",
        "\n",
        "# Barreiras (buffers intermediários)\n",
        "barriers = {\n",
        "    \"IF_ID\": None,\n",
        "    \"ID_EX\": None,\n",
        "    \"EX_MEM\": None,\n",
        "    \"MEM_WB\": None\n",
        "}\n",
        "\n",
        "# Estágios do pipeline\n",
        "def fetch():\n",
        "    if program:\n",
        "        return program.pop(0)\n",
        "    return None\n",
        "\n",
        "def decode(instruction):\n",
        "    if instruction:\n",
        "        try:\n",
        "            parts = instruction.split(maxsplit=1)  # Divide em opcode e argumentos\n",
        "            op = parts[0]\n",
        "            args = [arg.strip() for arg in parts[1].split(\",\")]  # Remove espaços e vírgulas\n",
        "            if len(args) != 3:\n",
        "                raise ValueError(\"Instrução mal formada.\")\n",
        "            return {\"op\": op, \"rd\": args[0], \"rs1\": args[1], \"rs2\": args[2]}\n",
        "        except (IndexError, ValueError) as e:\n",
        "            print(f\"Erro ao decodificar instrução: {instruction}. Detalhes: {e}\")\n",
        "            return None\n",
        "    return None\n",
        "\n",
        "def execute(decoded_instr):\n",
        "    if decoded_instr:\n",
        "        op = decoded_instr[\"op\"]\n",
        "        rs1 = registers.get(decoded_instr[\"rs1\"], 0)\n",
        "        rs2 = registers.get(decoded_instr[\"rs2\"], 0)\n",
        "        if op == \"add\":\n",
        "            result = rs1 + rs2\n",
        "        elif op == \"sub\":\n",
        "            result = rs1 - rs2\n",
        "        elif op == \"mul\":\n",
        "            result = rs1 * rs2\n",
        "        else:\n",
        "            result = None\n",
        "        return {\"rd\": decoded_instr[\"rd\"], \"result\": result}\n",
        "    return None\n",
        "\n",
        "def memory(access):\n",
        "    # Para este exemplo, não simulamos memória externa\n",
        "    return access\n",
        "\n",
        "def write_back(wb):\n",
        "    if wb:\n",
        "        registers[wb[\"rd\"]] = wb[\"result\"]\n",
        "\n",
        "# Avançar o ciclo do pipeline\n",
        "def pipeline_cycle():\n",
        "    global barriers\n",
        "    # Executar estágios na ordem inversa\n",
        "    write_back(barriers[\"MEM_WB\"])\n",
        "    barriers[\"MEM_WB\"] = memory(barriers[\"EX_MEM\"])\n",
        "    barriers[\"EX_MEM\"] = execute(barriers[\"ID_EX\"])\n",
        "    barriers[\"ID_EX\"] = decode(barriers[\"IF_ID\"])\n",
        "    barriers[\"IF_ID\"] = fetch()\n",
        "\n",
        "# Mostrar estado do pipeline\n",
        "def display_pipeline(cycle):\n",
        "    clear_output(wait=True)\n",
        "    print(f\"Ciclo {cycle}:\")\n",
        "    print(f\"Registradores: {registers}\")\n",
        "    for barrier, value in barriers.items():\n",
        "        print(f\"{barrier}: {value}\")\n",
        "    print(\"-\" * 40)\n",
        "\n",
        "    # Reexibir os botões para manter o estado da interface\n",
        "    display(widgets.VBox([cycle_label, clock_button]))\n",
        "\n",
        "# Interface com botão para simulação\n",
        "cycle = 0\n",
        "cycle_label = widgets.Label(value=f\"Ciclo: {cycle}\")\n",
        "clock_button = widgets.Button(description=\"Clock\")\n",
        "\n",
        "def on_clock_button_click(b):\n",
        "    global cycle\n",
        "    pipeline_cycle()\n",
        "    cycle += 1\n",
        "    cycle_label.value = f\"Ciclo: {cycle}\"\n",
        "    display_pipeline(cycle)\n",
        "\n",
        "clock_button.on_click(on_clock_button_click)\n",
        "\n",
        "# Inicializar interface\n",
        "display(widgets.VBox([cycle_label, clock_button]))\n",
        "display_pipeline(cycle)\n"
      ],
      "metadata": {
        "colab": {
          "base_uri": "https://localhost:8080/",
          "height": 222,
          "referenced_widgets": [
            "989a36d61b804a62b0522c1cda464842",
            "8f690656b6414ea3bf5f5a9fbe05b6f9",
            "64378f6e53d1445dbc16e2e2ce8dae94",
            "f48b801d704e4226b7fea9dce021205f",
            "85d2af429b80404b883763056e3b3a71",
            "935e6f5201744e58a3de8ed50b73a8c7",
            "2ec467979bc9479098a971c18859fba9",
            "e985dbc71a6345a194504d40a2e7f71e"
          ]
        },
        "id": "-FUDFqfMzBnW",
        "outputId": "ef252eee-9b7b-43a9-d536-b5183ba7e05a",
        "cellView": "form"
      },
      "execution_count": null,
      "outputs": [
        {
          "output_type": "stream",
          "name": "stdout",
          "text": [
            "Ciclo 0:\n",
            "Registradores: {'x0': 0, 'x1': 0, 'x2': 10, 'x3': 5, 'x4': 0, 'x5': 3, 'x6': 0, 'x7': 2, 'x8': 0, 'x9': 0, 'x10': 0, 'x11': 0, 'x12': 0, 'x13': 0, 'x14': 0, 'x15': 0, 'x16': 0, 'x17': 0, 'x18': 0, 'x19': 0, 'x20': 0, 'x21': 0, 'x22': 0, 'x23': 0, 'x24': 0, 'x25': 0, 'x26': 0, 'x27': 0, 'x28': 0, 'x29': 0, 'x30': 0, 'x31': 0}\n",
            "IF_ID: None\n",
            "ID_EX: None\n",
            "EX_MEM: None\n",
            "MEM_WB: None\n",
            "----------------------------------------\n"
          ]
        },
        {
          "output_type": "display_data",
          "data": {
            "text/plain": [
              "VBox(children=(Label(value='Ciclo: 0'), Button(description='Clock', style=ButtonStyle())))"
            ],
            "application/vnd.jupyter.widget-view+json": {
              "version_major": 2,
              "version_minor": 0,
              "model_id": "989a36d61b804a62b0522c1cda464842"
            }
          },
          "metadata": {}
        }
      ]
    },
    {
      "cell_type": "markdown",
      "source": [
        "## versão incompleta\n",
        "\n",
        "* Não tem memória, só banco de registradores\n",
        "* **fetch** retira da lista de instruções e não trata desvios\n",
        "* **decode** apenas \"separa\" os campos mas não lê valores nem toma ações\n",
        "* **execute** faz a leitura dos registradores que deve ser no **decode**, apenas executa alguns exemplos de instruções tipo R de ALU\n",
        "* **memory** não faz nada ainda....\n",
        "* **write back** atualiza os valores"
      ],
      "metadata": {
        "id": "_E3BNP-4jlpz"
      }
    },
    {
      "cell_type": "markdown",
      "source": [
        "# Parte II\n"
      ],
      "metadata": {
        "id": "DXJqhjv-kNOp"
      }
    }
  ]
}